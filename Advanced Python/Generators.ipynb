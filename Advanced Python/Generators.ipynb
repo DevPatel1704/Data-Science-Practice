{
 "cells": [
  {
   "cell_type": "markdown",
   "id": "d0fd6cb1",
   "metadata": {},
   "source": [
    "### Generators \n",
    "\n",
    "Gnerators are a simple way to create iterators. They Use the yield keyword to produce a series of values lazily, which means they generate values on the fly and do not store them in memeory."
   ]
  },
  {
   "cell_type": "code",
   "execution_count": 6,
   "id": "c3d6062a",
   "metadata": {},
   "outputs": [
    {
     "name": "stdout",
     "output_type": "stream",
     "text": [
      "<generator object sqr at 0x0000023D20E41970>\n"
     ]
    }
   ],
   "source": [
    "def sqr(n):\n",
    "    for i in range(n):\n",
    "        yield i**2\n",
    "    \n",
    "print(sqr(3))"
   ]
  },
  {
   "cell_type": "code",
   "execution_count": 7,
   "id": "c950fc92",
   "metadata": {},
   "outputs": [
    {
     "name": "stdout",
     "output_type": "stream",
     "text": [
      "0\n",
      "1\n",
      "4\n"
     ]
    }
   ],
   "source": [
    "for i in sqr(3):\n",
    "    print(i)"
   ]
  },
  {
   "cell_type": "code",
   "execution_count": 8,
   "id": "5d414fb5",
   "metadata": {},
   "outputs": [
    {
     "data": {
      "text/plain": [
       "0"
      ]
     },
     "execution_count": 8,
     "metadata": {},
     "output_type": "execute_result"
    }
   ],
   "source": [
    "a = sqr(3)\n",
    "next(a)"
   ]
  },
  {
   "cell_type": "code",
   "execution_count": 11,
   "id": "7519623f",
   "metadata": {},
   "outputs": [
    {
     "ename": "StopIteration",
     "evalue": "",
     "output_type": "error",
     "traceback": [
      "\u001b[31m---------------------------------------------------------------------------\u001b[39m",
      "\u001b[31mStopIteration\u001b[39m                             Traceback (most recent call last)",
      "\u001b[36mCell\u001b[39m\u001b[36m \u001b[39m\u001b[32mIn[11]\u001b[39m\u001b[32m, line 1\u001b[39m\n\u001b[32m----> \u001b[39m\u001b[32m1\u001b[39m \u001b[38;5;28;43mnext\u001b[39;49m\u001b[43m(\u001b[49m\u001b[43ma\u001b[49m\u001b[43m)\u001b[49m\n",
      "\u001b[31mStopIteration\u001b[39m: "
     ]
    }
   ],
   "source": [
    "next(a)"
   ]
  },
  {
   "cell_type": "code",
   "execution_count": 12,
   "id": "55568425",
   "metadata": {},
   "outputs": [],
   "source": [
    "def my_generator():\n",
    "    yield 1\n",
    "    yield 2 \n",
    "    yield 3"
   ]
  },
  {
   "cell_type": "code",
   "execution_count": 28,
   "id": "0377f82c",
   "metadata": {},
   "outputs": [
    {
     "data": {
      "text/plain": [
       "<generator object my_generator at 0x0000023D2091A560>"
      ]
     },
     "execution_count": 28,
     "metadata": {},
     "output_type": "execute_result"
    }
   ],
   "source": [
    "gen = my_generator()\n",
    "gen"
   ]
  },
  {
   "cell_type": "code",
   "execution_count": 29,
   "id": "3f8d2d51",
   "metadata": {},
   "outputs": [
    {
     "data": {
      "text/plain": [
       "1"
      ]
     },
     "execution_count": 29,
     "metadata": {},
     "output_type": "execute_result"
    }
   ],
   "source": [
    "next(gen)"
   ]
  },
  {
   "cell_type": "code",
   "execution_count": 30,
   "id": "5acb526e",
   "metadata": {},
   "outputs": [
    {
     "name": "stdout",
     "output_type": "stream",
     "text": [
      "2\n",
      "3\n"
     ]
    }
   ],
   "source": [
    "for val in gen:\n",
    "    print(val)"
   ]
  },
  {
   "cell_type": "markdown",
   "id": "b1708ed4",
   "metadata": {},
   "source": [
    "### Practical Example :\n",
    "Generators are particularly useful for reading large files cause they allow you to process on line at a time without loading the entire file into memory."
   ]
  },
  {
   "cell_type": "code",
   "execution_count": 39,
   "id": "773586a7",
   "metadata": {},
   "outputs": [],
   "source": [
    "## Practical 1 : Reading Large files \n",
    "\n",
    "def read_file(file_path):\n",
    "    with open(file_path,'r') as file:\n",
    "        for line in file :\n",
    "            yield line\n",
    "            \n",
    "    "
   ]
  },
  {
   "cell_type": "code",
   "execution_count": 40,
   "id": "94bd6d92",
   "metadata": {},
   "outputs": [
    {
     "name": "stdout",
     "output_type": "stream",
     "text": [
      "boolval()\tReturns the boolean value of a variable\n",
      "debug_zval_dump()\tDumps a string representation of an internal zend value to output\n",
      "doubleval()\tAlias of floatval()\n",
      "empty()\tChecks whether a variable is empty\n",
      "floatval()\tReturns the float value of a variable\n",
      "get_defined_vars()\tReturns all defined variables, as an array\n",
      "get_resource_type()\tReturns the type of a resource\n",
      "gettype()\tReturns the type of a variable\n",
      "intval()\tReturns the integer value of a variable\n",
      "is_array()\tChecks whether a variable is an array\n",
      "is_bool()\tChecks whether a variable is a boolean\n",
      "is_callable()\tChecks whether the contents of a variable can be called as a function\n",
      "is_countable()\tChecks whether the contents of a variable is a countable value\n",
      "is_double()\tAlias of is_float()\n",
      "is_float()\tChecks whether a variable is of type float\n",
      "is_int()\tChecks whether a variable is of type integer\n",
      "is_integer()\tAlias of is_int()\n",
      "is_iterable()\tChecks whether the contents of a variable is an iterable value\n",
      "is_long()\tAlias of is_int()\n",
      "is_null()\tChecks whether a variable is NULL\n",
      "is_numeric()\tChecks whether a variable is a number or a numeric string\n",
      "is_object()\tChecks whether a variable is an object\n",
      "is_real()\tAlias of is_float()\n",
      "is_resource()\tChecks whether a variable is a resource\n",
      "is_scalar()\tChecks whether a variable is a scalar\n",
      "is_string()\tChecks whether a variable is of type string\n",
      "isset()\tChecks whether a variable is set (declared and not NULL)\n",
      "print_r()\tPrints the information about a variable in a human-readable way\n",
      "serialize()\tConverts a storable representation of a value\n",
      "settype()\tConverts a variable to a specific type\n",
      "strval()\tReturns the string value of a variable\n",
      "unserialize()\tConverts serialized data back into actual data\n",
      "unset()\tUnsets a variable\n",
      "var_dump()\tDumps information about one or more variables\n"
     ]
    }
   ],
   "source": [
    "file_path = 'large_file.txt'\n",
    "\n",
    "for line in read_file('large_file.txt'):\n",
    "    print(line.strip())\n"
   ]
  },
  {
   "cell_type": "code",
   "execution_count": null,
   "id": "0196573a",
   "metadata": {},
   "outputs": [],
   "source": []
  }
 ],
 "metadata": {
  "kernelspec": {
   "display_name": "Python 3",
   "language": "python",
   "name": "python3"
  },
  "language_info": {
   "codemirror_mode": {
    "name": "ipython",
    "version": 3
   },
   "file_extension": ".py",
   "mimetype": "text/x-python",
   "name": "python",
   "nbconvert_exporter": "python",
   "pygments_lexer": "ipython3",
   "version": "3.12.8"
  }
 },
 "nbformat": 4,
 "nbformat_minor": 5
}
