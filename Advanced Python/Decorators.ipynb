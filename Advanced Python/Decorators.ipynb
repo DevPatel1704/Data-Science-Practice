{
 "cells": [
  {
   "cell_type": "markdown",
   "id": "d29566c6",
   "metadata": {},
   "source": [
    "### Decorators \n",
    "\n",
    "Decorators are a powerful and flexible featurein Python that allows you to modify the behaviout of a function or class method. They are commonly used to add functionality to functions or methods without modifying their actual code. This lesson covers the basics of decorators, including how to create and use them"
   ]
  },
  {
   "cell_type": "code",
   "execution_count": 5,
   "id": "82bc2267",
   "metadata": {},
   "outputs": [
    {
     "data": {
      "text/plain": [
       "'welcome to the python'"
      ]
     },
     "execution_count": 5,
     "metadata": {},
     "output_type": "execute_result"
    }
   ],
   "source": [
    "def welcome():\n",
    "    return \"welcome to the python\"\n",
    "\n",
    "welcome()"
   ]
  },
  {
   "cell_type": "code",
   "execution_count": 6,
   "id": "0a9b7472",
   "metadata": {},
   "outputs": [
    {
     "name": "stdout",
     "output_type": "stream",
     "text": [
      "welcome to the python\n",
      "welcome to the python\n"
     ]
    }
   ],
   "source": [
    "wel = welcome\n",
    "print(wel())\n",
    "del welcome\n",
    "print(wel())"
   ]
  },
  {
   "cell_type": "code",
   "execution_count": null,
   "id": "a34e3d84",
   "metadata": {},
   "outputs": [],
   "source": [
    "## Closures functions : method within a method\n",
    "\n",
    "def main_welcome(msg):\n",
    "    def sub_welcome_method():\n",
    "        print(\"wecome to inside function\")\n",
    "        print(msg)\n",
    "        print(\"please learn this\")\n",
    "    return sub_welcome_method()\n",
    "        "
   ]
  },
  {
   "cell_type": "code",
   "execution_count": 15,
   "id": "3640e3a7",
   "metadata": {},
   "outputs": [
    {
     "name": "stdout",
     "output_type": "stream",
     "text": [
      "wecome to inside function\n",
      "welcome everyone\n",
      "please learn this\n"
     ]
    }
   ],
   "source": [
    "main_welcome(\"welcome everyone\")"
   ]
  },
  {
   "cell_type": "code",
   "execution_count": 19,
   "id": "20c8e7fc",
   "metadata": {},
   "outputs": [],
   "source": [
    "## Closures functions : method within a method\n",
    "\n",
    "def main_welcome(func):\n",
    "    def sub_welcome_method():\n",
    "        print(\"wecome to inside function\")\n",
    "        func(\"Welcome to the func\")\n",
    "        print(\"please learn this\")\n",
    "    return sub_welcome_method()\n",
    "        "
   ]
  },
  {
   "cell_type": "code",
   "execution_count": 20,
   "id": "a79cb887",
   "metadata": {},
   "outputs": [
    {
     "name": "stdout",
     "output_type": "stream",
     "text": [
      "wecome to inside function\n",
      "Welcome to the func\n",
      "please learn this\n"
     ]
    }
   ],
   "source": [
    "main_welcome(print)"
   ]
  },
  {
   "cell_type": "code",
   "execution_count": 25,
   "id": "883cf62f",
   "metadata": {},
   "outputs": [],
   "source": [
    "## Closures functions : method within a method\n",
    "\n",
    "def main_welcome(func,lst):\n",
    "    \n",
    "    def sub_welcome_method():\n",
    "        print(\"wecome to inside function\")\n",
    "        print(func(lst))\n",
    "        print(\"please learn this\")\n",
    "    return sub_welcome_method()\n",
    "        "
   ]
  },
  {
   "cell_type": "code",
   "execution_count": 26,
   "id": "e9d01a97",
   "metadata": {},
   "outputs": [
    {
     "name": "stdout",
     "output_type": "stream",
     "text": [
      "wecome to inside function\n",
      "5\n",
      "please learn this\n"
     ]
    }
   ],
   "source": [
    "main_welcome(len,[1,2,3,4,5])"
   ]
  },
  {
   "cell_type": "code",
   "execution_count": 27,
   "id": "c106f73f",
   "metadata": {},
   "outputs": [],
   "source": [
    "## Decorator\n",
    "\n",
    "## Closures functions : method within a method\n",
    "\n",
    "def main_welcome(func):\n",
    "    def sub_welcome_method():\n",
    "        print(\"wecome to inside function\")\n",
    "        func()\n",
    "        print(\"please learn this\")\n",
    "    return sub_welcome_method()\n",
    "        "
   ]
  },
  {
   "cell_type": "code",
   "execution_count": 28,
   "id": "6a96ae2d",
   "metadata": {},
   "outputs": [
    {
     "name": "stdout",
     "output_type": "stream",
     "text": [
      "this is a advanced python topic\n"
     ]
    }
   ],
   "source": [
    "def course_introduction():\n",
    "    print(\"this is a advanced python topic\")\n",
    "    \n",
    "course_introduction()"
   ]
  },
  {
   "cell_type": "code",
   "execution_count": 29,
   "id": "b519cf6b",
   "metadata": {},
   "outputs": [
    {
     "name": "stdout",
     "output_type": "stream",
     "text": [
      "wecome to inside function\n",
      "this is a advanced python topic\n",
      "please learn this\n"
     ]
    }
   ],
   "source": [
    "main_welcome(course_introduction)"
   ]
  },
  {
   "cell_type": "code",
   "execution_count": 30,
   "id": "c1567bb6",
   "metadata": {},
   "outputs": [
    {
     "name": "stdout",
     "output_type": "stream",
     "text": [
      "wecome to inside function\n",
      "this function will work as parameter in the main_welcome function\n",
      "please learn this\n"
     ]
    }
   ],
   "source": [
    "@main_welcome\n",
    "def course_introduction():\n",
    "    print(\"this function will work as parameter in the main_welcome function\")"
   ]
  },
  {
   "cell_type": "code",
   "execution_count": 37,
   "id": "27e2cf9b",
   "metadata": {},
   "outputs": [],
   "source": [
    "## Decorator \n",
    "\n",
    "def my_decorator(func):\n",
    "    def wrapper():\n",
    "        print(\"something is before this function is called\")\n",
    "        func()\n",
    "        print(\"something is happening after the function is called\")\n",
    "    return wrapper\n"
   ]
  },
  {
   "cell_type": "code",
   "execution_count": 38,
   "id": "4cb41ef1",
   "metadata": {},
   "outputs": [
    {
     "data": {
      "text/plain": [
       "<function __main__.my_decorator.<locals>.wrapper()>"
      ]
     },
     "execution_count": 38,
     "metadata": {},
     "output_type": "execute_result"
    }
   ],
   "source": [
    "def extra():\n",
    "    print(\"this is extra function\")\n",
    "    \n",
    "    \n",
    "my_decorator(extra)"
   ]
  },
  {
   "cell_type": "code",
   "execution_count": 39,
   "id": "c12aabf9",
   "metadata": {},
   "outputs": [],
   "source": [
    "@my_decorator\n",
    "def say_hello():\n",
    "    print(\"hellpo\")"
   ]
  },
  {
   "cell_type": "code",
   "execution_count": 40,
   "id": "e3de3a22",
   "metadata": {},
   "outputs": [
    {
     "name": "stdout",
     "output_type": "stream",
     "text": [
      "something is before this function is called\n",
      "hellpo\n",
      "something is happening after the function is called\n"
     ]
    }
   ],
   "source": [
    "say_hello()"
   ]
  },
  {
   "cell_type": "code",
   "execution_count": 46,
   "id": "1f6d18f4",
   "metadata": {},
   "outputs": [],
   "source": [
    "### Decorators with aguments \n",
    "\n",
    "def repeat(n):\n",
    "    def decorator(func):\n",
    "        def wrapper(*args,**kwargs):\n",
    "            for _ in range(n):\n",
    "                func(*args,**kwargs)\n",
    "        return wrapper\n",
    "    return decorator"
   ]
  },
  {
   "cell_type": "code",
   "execution_count": 48,
   "id": "80c4244b",
   "metadata": {},
   "outputs": [
    {
     "name": "stdout",
     "output_type": "stream",
     "text": [
      "hello\n",
      "hello\n",
      "hello\n"
     ]
    }
   ],
   "source": [
    "@repeat(3)\n",
    "def say_hello():\n",
    "    print(\"hello\")\n",
    "    \n",
    "say_hello()"
   ]
  },
  {
   "cell_type": "code",
   "execution_count": null,
   "id": "eb59c8bb",
   "metadata": {},
   "outputs": [],
   "source": []
  }
 ],
 "metadata": {
  "kernelspec": {
   "display_name": "Python 3",
   "language": "python",
   "name": "python3"
  },
  "language_info": {
   "codemirror_mode": {
    "name": "ipython",
    "version": 3
   },
   "file_extension": ".py",
   "mimetype": "text/x-python",
   "name": "python",
   "nbconvert_exporter": "python",
   "pygments_lexer": "ipython3",
   "version": "3.12.8"
  }
 },
 "nbformat": 4,
 "nbformat_minor": 5
}
