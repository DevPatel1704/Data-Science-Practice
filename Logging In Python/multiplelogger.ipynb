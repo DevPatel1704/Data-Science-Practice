{
 "cells": [
  {
   "cell_type": "code",
   "execution_count": 3,
   "id": "0eac2380",
   "metadata": {},
   "outputs": [],
   "source": [
    "import logging\n",
    "\n",
    "##create a logger for module 1\n",
    "logger1=logging.getLogger(\"module1\")\n",
    "logger1.setLevel(logging.DEBUG)\n",
    "\n",
    "\n",
    "##create a logger for module 2\n",
    "logger2=logging.getLogger(\"module2\")\n",
    "logger2.setLevel(logging.WARNING)\n",
    "\n",
    "logging.basicConfig(\n",
    "    level=logging.DEBUG,\n",
    "    format='%(asctime)s-%(name)s-%(levelname)s-%(message)s',\n",
    "    datefmt='%Y-%m-%d  %H:%M:%S'\n",
    ")\n"
   ]
  },
  {
   "cell_type": "code",
   "execution_count": 4,
   "id": "bacc9341",
   "metadata": {},
   "outputs": [
    {
     "name": "stderr",
     "output_type": "stream",
     "text": [
      "2025-08-05  17:41:06-module1-DEBUG-This is a debug message for module1\n",
      "2025-08-05  17:41:06-module2-WARNING-this is a warning mssage for module2\n",
      "2025-08-05  17:41:06-module2-ERROR-this is error msg\n"
     ]
    }
   ],
   "source": [
    "## log messages with different loggers \n",
    "\n",
    "logger1.debug(\"This is a debug message for module1\")\n",
    "logger2.warning(\"this is a warning mssage for module2\")\n",
    "logger2.error(\"this is error msg\")"
   ]
  },
  {
   "cell_type": "code",
   "execution_count": null,
   "id": "11cd9bdf",
   "metadata": {},
   "outputs": [],
   "source": []
  }
 ],
 "metadata": {
  "kernelspec": {
   "display_name": "Python 3",
   "language": "python",
   "name": "python3"
  },
  "language_info": {
   "codemirror_mode": {
    "name": "ipython",
    "version": 3
   },
   "file_extension": ".py",
   "mimetype": "text/x-python",
   "name": "python",
   "nbconvert_exporter": "python",
   "pygments_lexer": "ipython3",
   "version": "3.12.8"
  }
 },
 "nbformat": 4,
 "nbformat_minor": 5
}
