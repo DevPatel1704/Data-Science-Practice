{
 "cells": [
  {
   "cell_type": "markdown",
   "id": "6f1255fd",
   "metadata": {},
   "source": [
    "#### Python Logging \n",
    "\n",
    "It provides a way to track events, errors and operational information. Python's in-built logging module offers a flexible framework for emmitting log messages from python programs."
   ]
  },
  {
   "cell_type": "code",
   "execution_count": 4,
   "id": "5e148cbd",
   "metadata": {},
   "outputs": [
    {
     "name": "stderr",
     "output_type": "stream",
     "text": [
      "DEBUG:root:This is a debug message\n",
      "INFO:root:This is an info message\n",
      "WARNING:root:Thisis a warning message\n",
      "ERROR:root:This is a error message\n",
      "CRITICAL:root:This is a critical message\n"
     ]
    }
   ],
   "source": [
    "import logging\n",
    "\n",
    "##configure the basic configure settings\n",
    "logging.basicConfig(level=logging.DEBUG)\n",
    "\n",
    "## Log messeages\n",
    "logging.debug(\"This is a debug message\")\n",
    "logging.info(\"This is an info message\")\n",
    "logging.warning(\"Thisis a warning message\")\n",
    "logging.error(\"This is a error message\")\n",
    "logging.critical(\"This is a critical message\")"
   ]
  },
  {
   "cell_type": "markdown",
   "id": "beedd231",
   "metadata": {},
   "source": [
    "### Log Levels\n",
    "\n",
    "DEBUG (10): Detailed information, typically of interest only when diagnosing problems.\n",
    "INFO (20): Confirmation that things are working as expected or general information about the application's flow. \n",
    "WARNING (30): An indication that something unexpected happened or a potential problem might occur in the near future. This is the default logging level if none is explicitly set.\n",
    "ERROR (40): A serious problem that has prevented some function from executing.\n",
    "CRITICAL (50): A severe error, indicating that the program itself may be unable to continue running or a catastrophic failure has occurred. "
   ]
  },
  {
   "cell_type": "code",
   "execution_count": 1,
   "id": "d6b2347b",
   "metadata": {},
   "outputs": [],
   "source": [
    "import logging\n",
    "\n",
    "for handler in logging.root.handlers[:]:\n",
    "    logging.root.removeHandler(handler)\n",
    "\n",
    "## Configuring logging\n",
    "\n",
    "logging.basicConfig(\n",
    "    filename='app.log',\n",
    "    filemode='w',\n",
    "    level=logging.DEBUG,\n",
    "    format='%(asctime)s-%(name)s-%(levelname)s-%(message)s',\n",
    "    datefmt='%Y-%m-%d  %H:%M:%S'\n",
    ")\n",
    "\n",
    "## Log messeages\n",
    "logging.debug(\"This is a debug message\")\n",
    "logging.info(\"This is an info message\")\n",
    "logging.warning(\"Thisis a warning message\")\n",
    "logging.error(\"This is a error message\")\n",
    "logging.critical(\"This is a critical message\")"
   ]
  },
  {
   "cell_type": "code",
   "execution_count": 2,
   "id": "5bcb9ae2",
   "metadata": {},
   "outputs": [],
   "source": [
    "logging.debug(\"This is a debug message\")\n",
    "logging.info(\"This is an info message\")\n",
    "logging.warning(\"Thisis a warning message\")\n",
    "logging.error(\"This is a error message\")\n",
    "logging.critical(\"This is a critical message\")"
   ]
  },
  {
   "cell_type": "code",
   "execution_count": null,
   "id": "3efdda13",
   "metadata": {},
   "outputs": [],
   "source": []
  }
 ],
 "metadata": {
  "kernelspec": {
   "display_name": "Python 3",
   "language": "python",
   "name": "python3"
  },
  "language_info": {
   "codemirror_mode": {
    "name": "ipython",
    "version": 3
   },
   "file_extension": ".py",
   "mimetype": "text/x-python",
   "name": "python",
   "nbconvert_exporter": "python",
   "pygments_lexer": "ipython3",
   "version": "3.12.8"
  }
 },
 "nbformat": 4,
 "nbformat_minor": 5
}
