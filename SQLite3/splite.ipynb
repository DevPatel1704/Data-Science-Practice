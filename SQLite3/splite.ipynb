{
 "cells": [
  {
   "cell_type": "markdown",
   "id": "7f5fc557",
   "metadata": {},
   "source": [
    "#### SQL\n",
    "SQL (Structured Query Language) is used to create, read, update, and delete data in relational databases using queries, making it essential for managing structured, table-based information effectively.\n",
    "\n",
    "#### SQLite\n",
    "SQLite is a lightweight, serverless database engine that stores data in a single file. It uses SQL, ideal for embedded systems, small applications, prototyping, and local data storage needs.\n"
   ]
  },
  {
   "cell_type": "code",
   "execution_count": 1,
   "id": "5ef4437b",
   "metadata": {},
   "outputs": [],
   "source": [
    "import sqlite3"
   ]
  },
  {
   "cell_type": "code",
   "execution_count": 2,
   "id": "51168b3f",
   "metadata": {},
   "outputs": [
    {
     "data": {
      "text/plain": [
       "<sqlite3.Connection at 0x25583d0ea70>"
      ]
     },
     "execution_count": 2,
     "metadata": {},
     "output_type": "execute_result"
    }
   ],
   "source": [
    "## Connect to an SQlite database\n",
    "\n",
    "connection=sqlite3.connect('example.db')\n",
    "connection"
   ]
  },
  {
   "cell_type": "code",
   "execution_count": 3,
   "id": "32f7b0e3",
   "metadata": {},
   "outputs": [],
   "source": [
    "cursor = connection.cursor()"
   ]
  },
  {
   "cell_type": "code",
   "execution_count": null,
   "id": "e862c7b3",
   "metadata": {},
   "outputs": [],
   "source": [
    "## Create a table\n",
    "\n",
    "cursor.execute('''\n",
    "Create Table If Not Exists employees(\n",
    "    id Integer Primary Key,\n",
    "    name text Not Null,\n",
    "    age Integer,\n",
    "    department text\n",
    ")               \n",
    "''')\n",
    "\n",
    "## Commit the changes \n",
    "\n",
    "connection.commit()"
   ]
  },
  {
   "cell_type": "code",
   "execution_count": 7,
   "id": "e474269e",
   "metadata": {},
   "outputs": [
    {
     "data": {
      "text/plain": [
       "<sqlite3.Cursor at 0x25583efcec0>"
      ]
     },
     "execution_count": 7,
     "metadata": {},
     "output_type": "execute_result"
    }
   ],
   "source": [
    "## Create a table\n",
    "\n",
    "cursor.execute('''\n",
    "Select * from employees\n",
    "              \n",
    "''')"
   ]
  },
  {
   "cell_type": "code",
   "execution_count": 8,
   "id": "cd1525b1",
   "metadata": {},
   "outputs": [],
   "source": [
    "## Insert the data \n",
    "\n",
    "cursor.execute('''\n",
    "Insert Into employees(name,age,department)\n",
    "                values('Dev',21,'Data Scientist')\n",
    "''')\n",
    "\n",
    "cursor.execute('''\n",
    "Insert Into employees(name,age,department)\n",
    "                values('Parth',22,'Software Engineering')\n",
    "''')\n",
    "\n",
    "cursor.execute('''\n",
    "Insert Into employees(name,age,department)\n",
    "                values('Dev',21,'Hacker')\n",
    "''')\n",
    "\n",
    "## Connection commit\n",
    "\n",
    "connection.commit()"
   ]
  },
  {
   "cell_type": "code",
   "execution_count": 9,
   "id": "68683ead",
   "metadata": {},
   "outputs": [
    {
     "name": "stdout",
     "output_type": "stream",
     "text": [
      "(1, 'Dev', 21, 'Data Scientist')\n",
      "(2, 'Parth', 22, 'Software Engineering')\n",
      "(3, 'Dev', 21, 'Hacker')\n"
     ]
    }
   ],
   "source": [
    "cursor.execute('Select * from employees')\n",
    "rows=cursor.fetchall()\n",
    "\n",
    "for row in rows:\n",
    "    print(row)"
   ]
  },
  {
   "cell_type": "code",
   "execution_count": 12,
   "id": "a6422e16",
   "metadata": {},
   "outputs": [
    {
     "name": "stdout",
     "output_type": "stream",
     "text": [
      "(1, 'Dev', 34, 'Data Scientist')\n",
      "(2, 'Parth', 22, 'Software Engineering')\n",
      "(3, 'Dev', 34, 'Hacker')\n"
     ]
    }
   ],
   "source": [
    "## Update the data\n",
    "\n",
    "cursor.execute('''\n",
    "UPDATE employees\n",
    "Set age=34\n",
    "where name=\"Dev\"  \n",
    "''')\n",
    "connection.commit()\n",
    "\n",
    "cursor.execute('Select * from employees')\n",
    "rows=cursor.fetchall()\n",
    "\n",
    "for row in rows:\n",
    "    print(row)"
   ]
  },
  {
   "cell_type": "code",
   "execution_count": 18,
   "id": "c35dc264",
   "metadata": {},
   "outputs": [
    {
     "name": "stdout",
     "output_type": "stream",
     "text": [
      "(1, 'Dev', 34, 'Data Scientist')\n",
      "(3, 'Dev', 34, 'Hacker')\n"
     ]
    }
   ],
   "source": [
    "## Delete the data from the data\n",
    "\n",
    "cursor.execute('''\n",
    "Delete from employees \n",
    "            where name='Parth'  \n",
    "''') \n",
    "connection.commit()\n",
    "\n",
    "cursor.execute('Select * from employees')\n",
    "rows=cursor.fetchall()\n",
    "\n",
    "for row in rows:\n",
    "    print(row)"
   ]
  },
  {
   "cell_type": "code",
   "execution_count": 35,
   "id": "3cd93087",
   "metadata": {},
   "outputs": [
    {
     "name": "stdout",
     "output_type": "stream",
     "text": [
      "✅ New database and table created successfully with sample data.\n"
     ]
    }
   ],
   "source": [
    "import sqlite3\n",
    "\n",
    "# Create a new database file (or connect if it exists)\n",
    "connection = sqlite3.connect('new_sales_data.db')\n",
    "cursor = connection.cursor()\n",
    "\n",
    "# Step 1: Create a new table\n",
    "cursor.execute('''\n",
    "CREATE TABLE IF NOT EXISTS sales_data (\n",
    "    id INTEGER PRIMARY KEY AUTOINCREMENT,\n",
    "    date TEXT NOT NULL,\n",
    "    product TEXT NOT NULL,\n",
    "    sales INTEGER,\n",
    "    region TEXT\n",
    ")\n",
    "''')\n",
    "\n",
    "# Step 2: Sample data\n",
    "sales_data = [\n",
    "    ('2023-01-01', 'Product 1', 100, 'north'),\n",
    "    ('2023-01-02', 'Product 2', 200, 'south'),\n",
    "    ('2023-01-03', 'Product 1', 150, 'east'),\n",
    "    ('2023-01-04', 'Product 3', 250, 'west'),\n",
    "    ('2023-01-05', 'Product 2', 300, 'north'),\n",
    "]\n",
    "\n",
    "# Step 3: Insert data\n",
    "cursor.executemany('''\n",
    "INSERT INTO sales_data (date, product, sales, region)\n",
    "VALUES (?, ?, ?, ?)\n",
    "''', sales_data)\n",
    "\n",
    "# Step 4: Commit and close\n",
    "connection.commit()\n",
    "\n",
    "print(\"✅ New database and table created successfully with sample data.\")\n"
   ]
  },
  {
   "cell_type": "code",
   "execution_count": 36,
   "id": "ff61b12b",
   "metadata": {},
   "outputs": [
    {
     "name": "stdout",
     "output_type": "stream",
     "text": [
      "(1, '2023-01-01', 'Product 1', 100, 'north')\n",
      "(2, '2023-01-02', 'Product 2', 200, 'south')\n",
      "(3, '2023-01-03', 'Product 1', 150, 'east')\n",
      "(4, '2023-01-04', 'Product 3', 250, 'west')\n",
      "(5, '2023-01-05', 'Product 2', 300, 'north')\n",
      "(6, '2023-01-01', 'Product 1', 100, 'north')\n",
      "(7, '2023-01-02', 'Product 2', 200, 'south')\n",
      "(8, '2023-01-03', 'Product 1', 150, 'east')\n",
      "(9, '2023-01-04', 'Product 3', 250, 'west')\n",
      "(10, '2023-01-05', 'Product 2', 300, 'north')\n",
      "(11, '2023-01-01', 'Product 1', 100, 'north')\n",
      "(12, '2023-01-02', 'Product 2', 200, 'south')\n",
      "(13, '2023-01-03', 'Product 1', 150, 'east')\n",
      "(14, '2023-01-04', 'Product 3', 250, 'west')\n",
      "(15, '2023-01-05', 'Product 2', 300, 'north')\n"
     ]
    }
   ],
   "source": [
    "cursor.execute('Select * from sales_data')\n",
    "rows=cursor.fetchall()\n",
    "\n",
    "for row in rows:\n",
    "    print(row)"
   ]
  },
  {
   "cell_type": "code",
   "execution_count": null,
   "id": "44f0e04a",
   "metadata": {},
   "outputs": [],
   "source": []
  }
 ],
 "metadata": {
  "kernelspec": {
   "display_name": "Python 3",
   "language": "python",
   "name": "python3"
  },
  "language_info": {
   "codemirror_mode": {
    "name": "ipython",
    "version": 3
   },
   "file_extension": ".py",
   "mimetype": "text/x-python",
   "name": "python",
   "nbconvert_exporter": "python",
   "pygments_lexer": "ipython3",
   "version": "3.12.8"
  }
 },
 "nbformat": 4,
 "nbformat_minor": 5
}
