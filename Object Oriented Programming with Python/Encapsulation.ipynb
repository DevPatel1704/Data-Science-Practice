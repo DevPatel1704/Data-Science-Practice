{
 "cells": [
  {
   "cell_type": "markdown",
   "id": "c4391356",
   "metadata": {},
   "source": [
    "### Encapsulation\n",
    "\n",
    "Encapsulation is one of the core concepts of Object-Oriented Programming (OOP). It refers to bundling data (attributes) and methods (functions) that operate on the data into a single unit — typically a class — and restricting direct access to some of the object’s components.\n",
    "\n"
   ]
  },
  {
   "cell_type": "code",
   "execution_count": 6,
   "id": "08293af5",
   "metadata": {},
   "outputs": [
    {
     "name": "stdout",
     "output_type": "stream",
     "text": [
      "dev\n",
      "dev\n"
     ]
    }
   ],
   "source": [
    "class person:\n",
    "    def __init__(self,name,age):\n",
    "        self.name=name        ## public\n",
    "        self.age=age          ## public \n",
    "        \n",
    "def get_name(person):\n",
    "        return person.name\n",
    "        \n",
    "per1 = person(\"dev\",21)\n",
    "print(per1.name)\n",
    "print(get_name(per1))"
   ]
  },
  {
   "cell_type": "code",
   "execution_count": 10,
   "id": "f2c487b4",
   "metadata": {},
   "outputs": [
    {
     "ename": "AttributeError",
     "evalue": "'person' object has no attribute 'name'",
     "output_type": "error",
     "traceback": [
      "\u001b[31m---------------------------------------------------------------------------\u001b[39m",
      "\u001b[31mAttributeError\u001b[39m                            Traceback (most recent call last)",
      "\u001b[36mCell\u001b[39m\u001b[36m \u001b[39m\u001b[32mIn[10]\u001b[39m\u001b[32m, line 10\u001b[39m\n\u001b[32m      7\u001b[39m         \u001b[38;5;28;01mreturn\u001b[39;00m person.__name\n\u001b[32m      9\u001b[39m per1 = person(\u001b[33m\"\u001b[39m\u001b[33mdev\u001b[39m\u001b[33m\"\u001b[39m,\u001b[32m21\u001b[39m)\n\u001b[32m---> \u001b[39m\u001b[32m10\u001b[39m \u001b[38;5;28mprint\u001b[39m(\u001b[43mper1\u001b[49m\u001b[43m.\u001b[49m\u001b[43mname\u001b[49m)\n\u001b[32m     11\u001b[39m \u001b[38;5;28mprint\u001b[39m(get_name(per1))\n",
      "\u001b[31mAttributeError\u001b[39m: 'person' object has no attribute 'name'"
     ]
    }
   ],
   "source": [
    "class person:\n",
    "    def __init__(self,name,age):\n",
    "        self.__name=name        ## private\n",
    "        self.__age=age          ## private \n",
    "        \n",
    "def get_name(object):\n",
    "        return person.__name\n",
    "        \n",
    "per1 = person(\"dev\",21)\n",
    "print(per1.name)\n",
    "print(get_name(per1))"
   ]
  },
  {
   "cell_type": "code",
   "execution_count": 15,
   "id": "8f4f9e80",
   "metadata": {},
   "outputs": [
    {
     "name": "stdout",
     "output_type": "stream",
     "text": [
      "dev\n"
     ]
    }
   ],
   "source": [
    "class person:\n",
    "    def __init__(self,name,age):\n",
    "        self._name=name        ## protected\n",
    "        self.age=age          ## public \n",
    "        \n",
    "class emp(person):\n",
    "    def __init__(self, name, age, gender):\n",
    "         super().__init__(name, age)\n",
    "         self.gender=gender\n",
    "        \n",
    "        \n",
    "emp1 = emp(\"dev\",21,\"male\")\n",
    "print(emp1._name)"
   ]
  },
  {
   "cell_type": "code",
   "execution_count": 24,
   "id": "bd7ea162",
   "metadata": {},
   "outputs": [
    {
     "name": "stdout",
     "output_type": "stream",
     "text": [
      "Dev\n",
      "21\n",
      "23\n",
      "age can not be negative\n"
     ]
    }
   ],
   "source": [
    "## Encapsulation with getter and setter\n",
    "\n",
    "class person:\n",
    "    \n",
    "    def __init__(self,name,age):\n",
    "        self.__name=name\n",
    "        self.__age=age\n",
    "        \n",
    "    #getter method\n",
    "    def get_name(self):\n",
    "        return self.__name\n",
    "    \n",
    "    #setter method\n",
    "    def set_name(self,name):\n",
    "        return self.__name\n",
    "        \n",
    "    #getter method\n",
    "    def get_age(self):\n",
    "        return self.__age\n",
    "    \n",
    "    #setter method\n",
    "    def set_age(self,age):\n",
    "        if age>0:\n",
    "            self.__age = age\n",
    "        else:\n",
    "            print(\"age can not be negative\")\n",
    "            \n",
    "per = person(\"Dev\",21)\n",
    "\n",
    "print(per.get_name())\n",
    "print(per.get_age())\n",
    "\n",
    "per.set_age(23)\n",
    "print(per.get_age())\n",
    "per.set_age(-4)\n",
    "    "
   ]
  },
  {
   "cell_type": "code",
   "execution_count": null,
   "id": "701ebb88",
   "metadata": {},
   "outputs": [],
   "source": []
  }
 ],
 "metadata": {
  "kernelspec": {
   "display_name": "Python 3",
   "language": "python",
   "name": "python3"
  },
  "language_info": {
   "codemirror_mode": {
    "name": "ipython",
    "version": 3
   },
   "file_extension": ".py",
   "mimetype": "text/x-python",
   "name": "python",
   "nbconvert_exporter": "python",
   "pygments_lexer": "ipython3",
   "version": "3.12.8"
  }
 },
 "nbformat": 4,
 "nbformat_minor": 5
}
