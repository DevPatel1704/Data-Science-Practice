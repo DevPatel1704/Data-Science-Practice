{
 "cells": [
  {
   "cell_type": "markdown",
   "id": "8728b655",
   "metadata": {},
   "source": [
    "Inheritance in Python\n",
    "\n",
    "Inheritance in a fundamental concept in OOP that allows a class to inherit attributes and methods from another class. "
   ]
  },
  {
   "cell_type": "code",
   "execution_count": 1,
   "id": "778f24da",
   "metadata": {},
   "outputs": [],
   "source": [
    "## Inheritance \n",
    "\n",
    "## Parent class\n",
    "\n",
    "class car:\n",
    "    def __init__(self,windows,doors,engine):\n",
    "        self.windows=windows\n",
    "        self.doors=doors\n",
    "        self.engine=engine\n",
    "        \n",
    "    def drive(self):\n",
    "        print(f\"the person will drive the {self.engine} car\")\n",
    "        "
   ]
  },
  {
   "cell_type": "code",
   "execution_count": 3,
   "id": "cbb2533c",
   "metadata": {},
   "outputs": [
    {
     "name": "stdout",
     "output_type": "stream",
     "text": [
      "the person will drive the petrol car\n"
     ]
    }
   ],
   "source": [
    "car1 = car(4,5,\"petrol\")\n",
    "car1.drive()"
   ]
  },
  {
   "cell_type": "code",
   "execution_count": 6,
   "id": "391e0f1f",
   "metadata": {},
   "outputs": [],
   "source": [
    "class Tesla(car):\n",
    "    def __init__(self, windows, doors, engine,selfdriving):\n",
    "        super().__init__(windows, doors, engine)\n",
    "        self.selfdriving=selfdriving\n",
    "    \n",
    "    def selfdrive(self):\n",
    "        print(f\"tesla supports Self Driving {self.selfdriving}\")"
   ]
  },
  {
   "cell_type": "code",
   "execution_count": 7,
   "id": "1286949c",
   "metadata": {},
   "outputs": [
    {
     "name": "stdout",
     "output_type": "stream",
     "text": [
      "tesla supports Self Driving True\n"
     ]
    }
   ],
   "source": [
    "tesla1 = Tesla(4,5,\"electric\",True)\n",
    "tesla1.selfdrive()"
   ]
  },
  {
   "cell_type": "code",
   "execution_count": 9,
   "id": "60e895d2",
   "metadata": {},
   "outputs": [
    {
     "name": "stdout",
     "output_type": "stream",
     "text": [
      "the person will drive the electric car\n"
     ]
    }
   ],
   "source": [
    "tesla1.drive()"
   ]
  },
  {
   "cell_type": "code",
   "execution_count": 18,
   "id": "3a581ade",
   "metadata": {},
   "outputs": [
    {
     "name": "stdout",
     "output_type": "stream",
     "text": [
      "buddy say woof\n",
      "owner is Dev\n"
     ]
    }
   ],
   "source": [
    "## Multiple Inheritance \n",
    "## WHen a class inherits from moore than one base class.\n",
    "\n",
    "class Animal:\n",
    "    def __init__(self,name):\n",
    "        self.name=name\n",
    "        \n",
    "    def speak(self):\n",
    "        print(\"Subclass must implement this method\")\n",
    "        \n",
    "class pet:\n",
    "    def __init__(self,owner):\n",
    "        self.owner=owner\n",
    "        \n",
    "\n",
    "class dog(Animal,pet):\n",
    "    def __init__(self, name, owner):\n",
    "        Animal.__init__(self,name)\n",
    "        pet.__init__(self,owner)\n",
    "\n",
    "        \n",
    "    def speak(self):\n",
    "        return f\"{self.name} say woof\"\n",
    "    \n",
    "dog1 = dog(\"buddy\",\"Dev\")\n",
    "print(dog1.speak())\n",
    "print(f\"owner is {dog1.owner}\")"
   ]
  },
  {
   "cell_type": "code",
   "execution_count": null,
   "id": "ea584c4c",
   "metadata": {},
   "outputs": [],
   "source": []
  }
 ],
 "metadata": {
  "kernelspec": {
   "display_name": "Python 3",
   "language": "python",
   "name": "python3"
  },
  "language_info": {
   "codemirror_mode": {
    "name": "ipython",
    "version": 3
   },
   "file_extension": ".py",
   "mimetype": "text/x-python",
   "name": "python",
   "nbconvert_exporter": "python",
   "pygments_lexer": "ipython3",
   "version": "3.12.8"
  }
 },
 "nbformat": 4,
 "nbformat_minor": 5
}
