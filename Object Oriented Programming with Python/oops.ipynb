{
 "cells": [
  {
   "cell_type": "markdown",
   "id": "309a7013",
   "metadata": {},
   "source": [
    "Classes and Objects\n",
    "\n",
    "OOP is a programming paradigm that uses objects to design applications and computer programs. OOP allows for modeling real-world scenarios using classes and objects."
   ]
  },
  {
   "cell_type": "code",
   "execution_count": 2,
   "id": "8c52a48d",
   "metadata": {},
   "outputs": [
    {
     "name": "stdout",
     "output_type": "stream",
     "text": [
      "<class '__main__.car'>\n"
     ]
    }
   ],
   "source": [
    "## A class is a blue print for creating objects\n",
    "\n",
    "class car:\n",
    "    pass\n",
    "\n",
    "audi = car()\n",
    "bmw=car()\n",
    "\n",
    "print(type(audi))"
   ]
  },
  {
   "cell_type": "code",
   "execution_count": 7,
   "id": "4cb32ec9",
   "metadata": {},
   "outputs": [
    {
     "name": "stdout",
     "output_type": "stream",
     "text": [
      "2\n",
      "4\n",
      "<__main__.car object at 0x000001B17DE625D0>\n"
     ]
    }
   ],
   "source": [
    "audi.windows=4\n",
    "tata = car()\n",
    "tata.doors=2\n",
    "print(tata.doors)\n",
    "print(audi.windows)\n",
    "print(bmw)"
   ]
  },
  {
   "cell_type": "code",
   "execution_count": 21,
   "id": "1a8adf67",
   "metadata": {},
   "outputs": [
    {
     "name": "stdout",
     "output_type": "stream",
     "text": [
      "<__main__.dog object at 0x000001B17DF713D0>\n",
      "Buddy\n",
      "3\n"
     ]
    }
   ],
   "source": [
    "## instance variable and methods\n",
    "\n",
    "class dog:\n",
    "    ## Constructor \n",
    "    def __init__(self,name,age):\n",
    "        self.name = name\n",
    "        self.age = age\n",
    "        \n",
    "## creating object \n",
    "dog1= dog(\"Buddy\", 3)\n",
    "print(dog1)\n",
    "print(dog1.name)\n",
    "print(dog1.age)"
   ]
  },
  {
   "cell_type": "code",
   "execution_count": 26,
   "id": "cf1f49ae",
   "metadata": {},
   "outputs": [
    {
     "name": "stdout",
     "output_type": "stream",
     "text": [
      "buddy says woof\n",
      "lucy says woof\n"
     ]
    }
   ],
   "source": [
    "## Define a class with instance methods\n",
    "\n",
    "class dog:\n",
    "    def __init__(self,name,age):\n",
    "        self.name=name\n",
    "        self.age=age\n",
    "        \n",
    "    def bark(self):\n",
    "        print(f\"{self.name} says woof\")\n",
    "            \n",
    "dog1=dog(\"buddy\",3)\n",
    "dog1.bark() \n",
    "dog2=dog(\"lucy\",4)\n",
    "dog2.bark()    "
   ]
  },
  {
   "cell_type": "code",
   "execution_count": 30,
   "id": "45feaa25",
   "metadata": {},
   "outputs": [
    {
     "name": "stdout",
     "output_type": "stream",
     "text": [
      "1000 is deposited. New balance is 11000\n",
      "500 withdrawn and balance is 10500\n"
     ]
    }
   ],
   "source": [
    "## Modeling a bank account\n",
    "\n",
    "## define a class for bank account \n",
    "class bankaccount:\n",
    "    def __init__(self,owner,balance=0):\n",
    "        self.owner=owner\n",
    "        self.balance=balance\n",
    "    \n",
    "    def deposite(self,amount):\n",
    "        self.balance+=amount\n",
    "        print(f\"{amount} is deposited. New balance is {self.balance}\")\n",
    "        \n",
    "    def withdraw(self,amount):\n",
    "        if amount>self.balance:\n",
    "            print(\"Insufficient Funds!\")\n",
    "        else:\n",
    "            self.balance-=amount\n",
    "            print(f\"{amount} withdrawn and balance is {self.balance}\")\n",
    "            \n",
    "u1 = bankaccount(\"Dev\",10000)\n",
    "u1.deposite(1000)\n",
    "u1.withdraw(500)\n",
    "        "
   ]
  },
  {
   "cell_type": "code",
   "execution_count": null,
   "id": "2ae274b3",
   "metadata": {},
   "outputs": [],
   "source": []
  }
 ],
 "metadata": {
  "kernelspec": {
   "display_name": "Python 3",
   "language": "python",
   "name": "python3"
  },
  "language_info": {
   "codemirror_mode": {
    "name": "ipython",
    "version": 3
   },
   "file_extension": ".py",
   "mimetype": "text/x-python",
   "name": "python",
   "nbconvert_exporter": "python",
   "pygments_lexer": "ipython3",
   "version": "3.12.8"
  }
 },
 "nbformat": 4,
 "nbformat_minor": 5
}
