{
 "cells": [
  {
   "cell_type": "markdown",
   "id": "9e040900",
   "metadata": {},
   "source": [
    "## Polymorphism\n",
    "\n",
    "Polymorphism is a core concept in OOP that allows objects of different classes to be treated as objects of a common superclass. \n",
    "It provides a way to perform a single action in different forms.\n",
    "Polymophism is typically achieved through method overriding and interfaces"
   ]
  },
  {
   "cell_type": "markdown",
   "id": "7aaec2f2",
   "metadata": {},
   "source": [
    "### Method Overrriding \n",
    "\n",
    "Method Overriding  allows a child to prvide a specific implementation of a method that is already defined in its parent class"
   ]
  },
  {
   "cell_type": "code",
   "execution_count": 13,
   "id": "0d9a5f95",
   "metadata": {},
   "outputs": [
    {
     "name": "stdout",
     "output_type": "stream",
     "text": [
      "Woof!\n",
      "meow!\n",
      "Woof!\n"
     ]
    }
   ],
   "source": [
    "## Base class\n",
    "class Animal:\n",
    "    def speak(self):\n",
    "        return \"Sound of the animal\"\n",
    "    \n",
    "class dog(Animal):\n",
    "    def speak(self):\n",
    "            return \"Woof!\"\n",
    "        \n",
    "class cat(Animal):\n",
    "    def speak(self):\n",
    "            return \"meow!\"\n",
    "      \n",
    "##Function that demonstrates polymorphism \n",
    "def animal_speak(animal):\n",
    "    print(animal.speak())\n",
    "  \n",
    "dog1 = dog()\n",
    "cat1 = cat()\n",
    "print(dog1.speak())\n",
    "print(cat1.speak())\n",
    "animal_speak(dog1)"
   ]
  },
  {
   "cell_type": "code",
   "execution_count": 16,
   "id": "a66adba2",
   "metadata": {},
   "outputs": [
    {
     "name": "stdout",
     "output_type": "stream",
     "text": [
      "the area is 12\n",
      "the area is 12.56\n"
     ]
    }
   ],
   "source": [
    "## Polymorphism with functions an methods\n",
    "\n",
    "# base class\n",
    "class shape:\n",
    "    def area(self):\n",
    "        return \"the area of the figure\"\n",
    "  \n",
    "# derived class  \n",
    "class rect(shape):\n",
    "    def __init__(self,w,h):\n",
    "        self.w=w\n",
    "        self.h=h\n",
    "        \n",
    "    def area(self):\n",
    "        return self.w * self.h\n",
    "\n",
    "# derived class 2\n",
    "class circle(shape):\n",
    "    def __init__(self,radius):\n",
    "        self.radius=radius\n",
    "        \n",
    "    def area(self):\n",
    "        return 3.14*self.radius*self.radius\n",
    "    \n",
    "# function that demonstrates polymorphism\n",
    "\n",
    "def print_area(shape):\n",
    "    print(f\"the area is {shape.area()}\")\n",
    "    \n",
    "rect1 = rect(3,4)\n",
    "cir1 = circle(2)\n",
    "\n",
    "print_area(rect1)\n",
    "print_area(cir1)\n",
    "        "
   ]
  },
  {
   "cell_type": "markdown",
   "id": "7ee8bfa5",
   "metadata": {},
   "source": [
    "### polymorphism with Abstract Base Classes \n",
    "\n",
    "these are used to define common methods for a group of related objects. they can enforce that derived classes implement particular methods, promoting consisistency acorss different implementations."
   ]
  },
  {
   "cell_type": "code",
   "execution_count": null,
   "id": "700e906b",
   "metadata": {},
   "outputs": [
    {
     "name": "stdout",
     "output_type": "stream",
     "text": [
      "car engine started\n",
      "Mototcycle engine started\n"
     ]
    }
   ],
   "source": [
    "from abc import ABC, abstractmethod\n",
    "\n",
    "## Define an abstract class\n",
    "class Vehicle(ABC):\n",
    "    @abstractmethod\n",
    "    def start_engine(self):\n",
    "        pass\n",
    "    \n",
    "#derived class 1\n",
    "class car(Vehicle):\n",
    "    def start_engine(self):\n",
    "        return \"car engine started\"\n",
    "    \n",
    "# derived class 2\n",
    "class motorcycle(Vehicle):\n",
    "    def start_engine(self):\n",
    "        return \"Mototcycle engine started\"\n",
    "    \n",
    "## create objects of car and motorcycle\n",
    "\n",
    "car1 = car()\n",
    "moto1 = motorcycle()\n",
    "\n",
    "print(car1.start_engine())\n",
    "print(moto1.start_engine())"
   ]
  },
  {
   "cell_type": "code",
   "execution_count": null,
   "id": "569a1166",
   "metadata": {},
   "outputs": [],
   "source": []
  }
 ],
 "metadata": {
  "kernelspec": {
   "display_name": "Python 3",
   "language": "python",
   "name": "python3"
  },
  "language_info": {
   "codemirror_mode": {
    "name": "ipython",
    "version": 3
   },
   "file_extension": ".py",
   "mimetype": "text/x-python",
   "name": "python",
   "nbconvert_exporter": "python",
   "pygments_lexer": "ipython3",
   "version": "3.12.8"
  }
 },
 "nbformat": 4,
 "nbformat_minor": 5
}
