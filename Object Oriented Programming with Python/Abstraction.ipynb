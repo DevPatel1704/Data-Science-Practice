{
 "cells": [
  {
   "cell_type": "markdown",
   "id": "dd541502",
   "metadata": {},
   "source": [
    "### Abstraction\n",
    "\n",
    "Abstraction is the concept of hiding the complex implemenation details and showing only necessary features of the object. This helps in reducing programming complexity and effort."
   ]
  },
  {
   "cell_type": "code",
   "execution_count": 3,
   "id": "f01c11f4",
   "metadata": {},
   "outputs": [
    {
     "name": "stdout",
     "output_type": "stream",
     "text": [
      "car engine started\n",
      "the vahicle is used for driving\n"
     ]
    }
   ],
   "source": [
    "from abc import ABC, abstractmethod\n",
    "\n",
    "##Abstract base class\n",
    "class vehicle(ABC):\n",
    "    def drive(self):\n",
    "        print(\"the vahicle is used for driving\")\n",
    "        \n",
    "    @abstractmethod\n",
    "    def start_engin(self):\n",
    "        pass\n",
    "    \n",
    "class car(vehicle):\n",
    "    def start_engin(self):\n",
    "        print(\"car engine started\")\n",
    "        \n",
    "def operate_vehicle(vehicle):\n",
    "    vehicle.start_engin()\n",
    "    vehicle.drive()\n",
    "    \n",
    "car1 = car()\n",
    "operate_vehicle(car1)\n"
   ]
  },
  {
   "cell_type": "code",
   "execution_count": null,
   "id": "596a3f2a",
   "metadata": {},
   "outputs": [],
   "source": []
  }
 ],
 "metadata": {
  "kernelspec": {
   "display_name": "Python 3",
   "language": "python",
   "name": "python3"
  },
  "language_info": {
   "codemirror_mode": {
    "name": "ipython",
    "version": 3
   },
   "file_extension": ".py",
   "mimetype": "text/x-python",
   "name": "python",
   "nbconvert_exporter": "python",
   "pygments_lexer": "ipython3",
   "version": "3.12.8"
  }
 },
 "nbformat": 4,
 "nbformat_minor": 5
}
