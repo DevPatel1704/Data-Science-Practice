{
 "cells": [
  {
   "cell_type": "markdown",
   "id": "43d07715",
   "metadata": {},
   "source": [
    "### Reading data from different sources"
   ]
  },
  {
   "cell_type": "code",
   "execution_count": null,
   "id": "59ca48fe",
   "metadata": {},
   "outputs": [],
   "source": [
    "import pandas as pd \n",
    "from io import StringIO\n",
    "\n",
    "data = '{\"emp_name\":\"Dev\",\"email\":\"pateldev@gmail.com\",\"job_profile\":[{\"title1\":\"team lead\",\"title2\":\"Sr. Developer\"}]}'\n",
    "df=pd.read_json(StringIO(data))"
   ]
  },
  {
   "cell_type": "code",
   "execution_count": 5,
   "id": "6f745b45",
   "metadata": {},
   "outputs": [
    {
     "data": {
      "text/html": [
       "<div>\n",
       "<style scoped>\n",
       "    .dataframe tbody tr th:only-of-type {\n",
       "        vertical-align: middle;\n",
       "    }\n",
       "\n",
       "    .dataframe tbody tr th {\n",
       "        vertical-align: top;\n",
       "    }\n",
       "\n",
       "    .dataframe thead th {\n",
       "        text-align: right;\n",
       "    }\n",
       "</style>\n",
       "<table border=\"1\" class=\"dataframe\">\n",
       "  <thead>\n",
       "    <tr style=\"text-align: right;\">\n",
       "      <th></th>\n",
       "      <th>emp_name</th>\n",
       "      <th>email</th>\n",
       "      <th>job_profile</th>\n",
       "    </tr>\n",
       "  </thead>\n",
       "  <tbody>\n",
       "    <tr>\n",
       "      <th>0</th>\n",
       "      <td>Dev</td>\n",
       "      <td>pateldev@gmail.com</td>\n",
       "      <td>{'title1': 'team lead', 'title2': 'Sr. Develop...</td>\n",
       "    </tr>\n",
       "  </tbody>\n",
       "</table>\n",
       "</div>"
      ],
      "text/plain": [
       "  emp_name               email  \\\n",
       "0      Dev  pateldev@gmail.com   \n",
       "\n",
       "                                         job_profile  \n",
       "0  {'title1': 'team lead', 'title2': 'Sr. Develop...  "
      ]
     },
     "execution_count": 5,
     "metadata": {},
     "output_type": "execute_result"
    }
   ],
   "source": [
    "df"
   ]
  },
  {
   "cell_type": "code",
   "execution_count": 7,
   "id": "e77ae98b",
   "metadata": {},
   "outputs": [
    {
     "data": {
      "text/plain": [
       "'{\"emp_name\":{\"0\":\"Dev\"},\"email\":{\"0\":\"pateldev@gmail.com\"},\"job_profile\":{\"0\":{\"title1\":\"team lead\",\"title2\":\"Sr. Developer\"}}}'"
      ]
     },
     "execution_count": 7,
     "metadata": {},
     "output_type": "execute_result"
    }
   ],
   "source": [
    "df.to_json()"
   ]
  },
  {
   "cell_type": "code",
   "execution_count": 8,
   "id": "775d7890",
   "metadata": {},
   "outputs": [
    {
     "data": {
      "text/plain": [
       "'{\"0\":{\"emp_name\":\"Dev\",\"email\":\"pateldev@gmail.com\",\"job_profile\":{\"title1\":\"team lead\",\"title2\":\"Sr. Developer\"}}}'"
      ]
     },
     "execution_count": 8,
     "metadata": {},
     "output_type": "execute_result"
    }
   ],
   "source": [
    "df.to_json(orient='index')"
   ]
  },
  {
   "cell_type": "code",
   "execution_count": 9,
   "id": "400ecd18",
   "metadata": {},
   "outputs": [
    {
     "data": {
      "text/plain": [
       "'[{\"emp_name\":\"Dev\",\"email\":\"pateldev@gmail.com\",\"job_profile\":{\"title1\":\"team lead\",\"title2\":\"Sr. Developer\"}}]'"
      ]
     },
     "execution_count": 9,
     "metadata": {},
     "output_type": "execute_result"
    }
   ],
   "source": [
    "df.to_json(orient='records')"
   ]
  },
  {
   "cell_type": "code",
   "execution_count": null,
   "id": "906685b9",
   "metadata": {},
   "outputs": [],
   "source": []
  }
 ],
 "metadata": {
  "kernelspec": {
   "display_name": "Python 3",
   "language": "python",
   "name": "python3"
  },
  "language_info": {
   "codemirror_mode": {
    "name": "ipython",
    "version": 3
   },
   "file_extension": ".py",
   "mimetype": "text/x-python",
   "name": "python",
   "nbconvert_exporter": "python",
   "pygments_lexer": "ipython3",
   "version": "3.12.8"
  }
 },
 "nbformat": 4,
 "nbformat_minor": 5
}
