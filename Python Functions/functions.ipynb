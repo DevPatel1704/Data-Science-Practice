{
 "cells": [
  {
   "cell_type": "code",
   "execution_count": 2,
   "id": "43d597ea",
   "metadata": {},
   "outputs": [
    {
     "name": "stdout",
     "output_type": "stream",
     "text": [
      "hello\n"
     ]
    }
   ],
   "source": [
    "print(\"hello\")"
   ]
  },
  {
   "cell_type": "code",
   "execution_count": null,
   "id": "f7bc6001",
   "metadata": {},
   "outputs": [],
   "source": [
    "def function_name(parameter):\n",
    "    #function body\n",
    "    return expression"
   ]
  },
  {
   "cell_type": "code",
   "execution_count": 4,
   "id": "a01afbd7",
   "metadata": {},
   "outputs": [
    {
     "name": "stdout",
     "output_type": "stream",
     "text": [
      "the number is even\n"
     ]
    }
   ],
   "source": [
    "num = 24\n",
    "if num%2==0:\n",
    "    print(\"the number is even\")\n",
    "else:\n",
    "    print(\"the number is odd\")"
   ]
  },
  {
   "cell_type": "code",
   "execution_count": 14,
   "id": "91318f2e",
   "metadata": {},
   "outputs": [],
   "source": [
    "def even_or_odd(num):\n",
    "    if num % 2 == 0:\n",
    "        print(\"the number is even\")\n",
    "    else:\n",
    "        print(\"the number is odd\")\n"
   ]
  },
  {
   "cell_type": "code",
   "execution_count": 15,
   "id": "4fa53314",
   "metadata": {},
   "outputs": [
    {
     "name": "stdout",
     "output_type": "stream",
     "text": [
      "the number is odd\n"
     ]
    }
   ],
   "source": [
    "even_or_odd(23)"
   ]
  },
  {
   "cell_type": "code",
   "execution_count": 18,
   "id": "c13aeef8",
   "metadata": {},
   "outputs": [
    {
     "name": "stdout",
     "output_type": "stream",
     "text": [
      "6\n"
     ]
    }
   ],
   "source": [
    "##funtion with multiple parameters\n",
    "\n",
    "def add(a,b):\n",
    "    return a+b\n",
    "\n",
    "result=add(2,4)\n",
    "print(result)\n"
   ]
  },
  {
   "cell_type": "code",
   "execution_count": 23,
   "id": "3f1db63e",
   "metadata": {},
   "outputs": [
    {
     "name": "stdout",
     "output_type": "stream",
     "text": [
      "hello krish Welcome to the paradise\n"
     ]
    }
   ],
   "source": [
    "##Default Parameters\n",
    "\n",
    "def greet(name):\n",
    "    print(f\"hello {name} Welcome to the paradise\" )\n",
    "    \n",
    "greet(\"krish\")"
   ]
  },
  {
   "cell_type": "code",
   "execution_count": null,
   "id": "b35bd99b",
   "metadata": {},
   "outputs": [
    {
     "name": "stdout",
     "output_type": "stream",
     "text": [
      "hello Guest Welcome to the paradise\n",
      "hello Dev Welcome to the paradise\n"
     ]
    }
   ],
   "source": [
    "## Default Parameters\n",
    "\n",
    "def greet(name=\"Guest\"):\n",
    "    print(f\"hello {name} Welcome to the paradise\" )\n",
    "    \n",
    "greet()\n",
    "greet(\"Dev\")"
   ]
  },
  {
   "cell_type": "code",
   "execution_count": null,
   "id": "f9d27055",
   "metadata": {},
   "outputs": [],
   "source": [
    "## Variable lenght arguments \n",
    "## Positional and keywords arguments \n",
    "\n",
    "def print_numbers(*args):\n",
    "    for num in args:\n",
    "        print(num)"
   ]
  },
  {
   "cell_type": "code",
   "execution_count": 33,
   "id": "779c2c59",
   "metadata": {},
   "outputs": [
    {
     "name": "stdout",
     "output_type": "stream",
     "text": [
      "1 2 3 4 5 6\n"
     ]
    }
   ],
   "source": [
    "print(1,2,3,4,5,6)"
   ]
  },
  {
   "cell_type": "code",
   "execution_count": 34,
   "id": "fe9809b8",
   "metadata": {},
   "outputs": [],
   "source": [
    "## Keywords Arguments :  parameters will be in key value pairs \n",
    "\n",
    "def print_details(**kwargs):\n",
    "    for key,value in kwargs.items():\n",
    "        print(f\"{key}:{value}\")"
   ]
  },
  {
   "cell_type": "code",
   "execution_count": 35,
   "id": "77a64bd6",
   "metadata": {},
   "outputs": [
    {
     "name": "stdout",
     "output_type": "stream",
     "text": [
      "name:dev\n",
      "age:22\n",
      "country:india\n"
     ]
    }
   ],
   "source": [
    "print_details(name=\"dev\",age=\"22\",country=\"india\")"
   ]
  },
  {
   "cell_type": "code",
   "execution_count": 37,
   "id": "e86da5b0",
   "metadata": {},
   "outputs": [],
   "source": [
    "## Keywords Arguments :  parameters will be in key value pairs \n",
    "\n",
    "def print_details(*args,**kwargs):\n",
    "    for val in args:\n",
    "        print(f\"Positional arguments : {val}\")\n",
    "        \n",
    "    for key,value in kwargs.items():\n",
    "        print(f\"{key}:{value}\")"
   ]
  },
  {
   "cell_type": "code",
   "execution_count": 38,
   "id": "25736e3e",
   "metadata": {},
   "outputs": [
    {
     "name": "stdout",
     "output_type": "stream",
     "text": [
      "Positional arguments : 1\n",
      "Positional arguments : 2\n",
      "Positional arguments : 3\n",
      "name:dev\n",
      "age:22\n",
      "country:india\n"
     ]
    }
   ],
   "source": [
    "print_details(1,2,3,name=\"dev\",age=\"22\",country=\"india\")"
   ]
  },
  {
   "cell_type": "code",
   "execution_count": 42,
   "id": "6c90bde2",
   "metadata": {},
   "outputs": [
    {
     "data": {
      "text/plain": [
       "(6, 2)"
      ]
     },
     "execution_count": 42,
     "metadata": {},
     "output_type": "execute_result"
    }
   ],
   "source": [
    "## return statement \n",
    "\n",
    "def multipy(a,b):\n",
    "    return a*b,a\n",
    "\n",
    "multipy(2,3)"
   ]
  },
  {
   "cell_type": "code",
   "execution_count": null,
   "id": "6fdf7e45",
   "metadata": {},
   "outputs": [],
   "source": []
  }
 ],
 "metadata": {
  "kernelspec": {
   "display_name": "Python 3",
   "language": "python",
   "name": "python3"
  },
  "language_info": {
   "codemirror_mode": {
    "name": "ipython",
    "version": 3
   },
   "file_extension": ".py",
   "mimetype": "text/x-python",
   "name": "python",
   "nbconvert_exporter": "python",
   "pygments_lexer": "ipython3",
   "version": "3.12.8"
  }
 },
 "nbformat": 4,
 "nbformat_minor": 5
}
