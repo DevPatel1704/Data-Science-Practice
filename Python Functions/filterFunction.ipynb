{
 "cells": [
  {
   "cell_type": "markdown",
   "id": "dc80a1e1",
   "metadata": {},
   "source": [
    "The filter() function\n",
    "\n",
    "it constructs an iterator from elements of an iterable for which a function returns true. it is used to filter out items from list based ona conditions"
   ]
  },
  {
   "cell_type": "code",
   "execution_count": 1,
   "id": "5d242d1c",
   "metadata": {},
   "outputs": [],
   "source": [
    "def even(num):\n",
    "    if num%2==0:\n",
    "        return True"
   ]
  },
  {
   "cell_type": "code",
   "execution_count": 2,
   "id": "9c7f3e3d",
   "metadata": {},
   "outputs": [
    {
     "data": {
      "text/plain": [
       "[2, 4, 6, 8]"
      ]
     },
     "execution_count": 2,
     "metadata": {},
     "output_type": "execute_result"
    }
   ],
   "source": [
    "lst = [1,2,3,4,5,6,7,8]\n",
    "\n",
    "list(filter(even,lst))"
   ]
  },
  {
   "cell_type": "code",
   "execution_count": 3,
   "id": "3c654722",
   "metadata": {},
   "outputs": [
    {
     "name": "stdout",
     "output_type": "stream",
     "text": [
      "[12, 56, 7, 89, 9]\n"
     ]
    }
   ],
   "source": [
    "## filter with Lamda function\n",
    "\n",
    "num = [12,3,56,7,89,9]\n",
    "greater_than_five = list(filter(lambda x:x>5,num))\n",
    "print(greater_than_five)"
   ]
  },
  {
   "cell_type": "code",
   "execution_count": 5,
   "id": "3d1c1ea9",
   "metadata": {},
   "outputs": [
    {
     "name": "stdout",
     "output_type": "stream",
     "text": [
      "[12, 56]\n"
     ]
    }
   ],
   "source": [
    "## filter with a lambda functiona nd multiple conditions\n",
    "\n",
    "num = [12,3,56,7,89,9]\n",
    "even_and_greater_than_five = list(filter(lambda x:x>5 and x%2==0,num))\n",
    "print(even_and_greater_than_five)"
   ]
  },
  {
   "cell_type": "code",
   "execution_count": 7,
   "id": "50edaba4",
   "metadata": {},
   "outputs": [
    {
     "data": {
      "text/plain": [
       "[{'name': 'parth', 'age': 26}, {'name': 'kirtan', 'age': 32}]"
      ]
     },
     "execution_count": 7,
     "metadata": {},
     "output_type": "execute_result"
    }
   ],
   "source": [
    "## Filter() to check if the age is greater than 25 in dictionary\n",
    "\n",
    "people = [\n",
    "    {'name' : 'dev' , 'age' : 21},\n",
    "    {'name' : 'parth' , 'age' : 26},\n",
    "    {'name' : 'kirtan' , 'age' : 32},\n",
    "]\n",
    "\n",
    "def age_greater_than_25(person):\n",
    "    return person['age']>25\n",
    "\n",
    "list(filter(age_greater_than_25,people))"
   ]
  },
  {
   "cell_type": "code",
   "execution_count": null,
   "id": "beb0332e",
   "metadata": {},
   "outputs": [],
   "source": []
  }
 ],
 "metadata": {
  "kernelspec": {
   "display_name": "Python 3",
   "language": "python",
   "name": "python3"
  },
  "language_info": {
   "codemirror_mode": {
    "name": "ipython",
    "version": 3
   },
   "file_extension": ".py",
   "mimetype": "text/x-python",
   "name": "python",
   "nbconvert_exporter": "python",
   "pygments_lexer": "ipython3",
   "version": "3.12.8"
  }
 },
 "nbformat": 4,
 "nbformat_minor": 5
}
