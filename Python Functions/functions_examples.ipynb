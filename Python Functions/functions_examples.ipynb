{
 "cells": [
  {
   "cell_type": "code",
   "execution_count": null,
   "id": "af912abe",
   "metadata": {},
   "outputs": [
    {
     "name": "stdout",
     "output_type": "stream",
     "text": [
      "77.0\n",
      "25.0\n"
     ]
    }
   ],
   "source": [
    "## Example 1 : Tempurature conversion\n",
    "\n",
    "def convert_temp(temp,unit):\n",
    "    if unit == 'C':\n",
    "        return temp * 9/5 + 32\n",
    "    elif unit == \"F\":\n",
    "        return (temp-32) * 5/9\n",
    "    else:\n",
    "        return None\n",
    "    \n",
    "print(convert_temp(25,'C'))\n",
    "print(convert_temp(77,'F'))"
   ]
  },
  {
   "cell_type": "code",
   "execution_count": 9,
   "id": "dfad42d4",
   "metadata": {},
   "outputs": [
    {
     "name": "stdout",
     "output_type": "stream",
     "text": [
      "False\n",
      "True\n"
     ]
    }
   ],
   "source": [
    "## Example 2 : Password Strenght Checker\n",
    "\n",
    "def strong_pass(password):\n",
    "    if len(password)<8:\n",
    "        return False\n",
    "    if not any(char.isdigit() for char in password):\n",
    "        return False\n",
    "    if not any(char.islower() for char in password):\n",
    "        return False\n",
    "    if not any(char.isupper() for char in password):\n",
    "        return False\n",
    "    if not any(char in '!@#$%^&*()_+' for char in password):\n",
    "        return False\n",
    "    return True\n",
    "\n",
    "print(strong_pass(\"Weakpassword\"))\n",
    "print(strong_pass(\"Strt0#123\"))"
   ]
  },
  {
   "cell_type": "code",
   "execution_count": 13,
   "id": "5d4d4cb0",
   "metadata": {},
   "outputs": [
    {
     "name": "stdout",
     "output_type": "stream",
     "text": [
      "5.8999999999999995\n"
     ]
    }
   ],
   "source": [
    "## Example 3 : Calculate the total cost of items in shopping cart\n",
    "\n",
    "def calculate_totak_cost(cart):\n",
    "    total_cost=0\n",
    "    for item in cart:\n",
    "        total_cost+=item['price']*item['quantity']\n",
    "    return total_cost\n",
    "\n",
    "cart = [\n",
    "    {'name':'Apple', 'price':0.5, 'quantity':4},\n",
    "    {'name':'Banana', 'price':0.3, 'quantity':6},\n",
    "    {'name':'Pinapple', 'price':0.7, 'quantity':3},\n",
    "]\n",
    "    \n",
    "total_cost = calculate_totak_cost(cart) \n",
    "print(total_cost)"
   ]
  },
  {
   "cell_type": "code",
   "execution_count": 17,
   "id": "1752fa69",
   "metadata": {},
   "outputs": [
    {
     "name": "stdout",
     "output_type": "stream",
     "text": [
      "True\n",
      "False\n"
     ]
    }
   ],
   "source": [
    "## Example 4: Check f a string is palindrome\n",
    "\n",
    "def is_palindrome(s):\n",
    "    s = s.lower().replace(\" \",\"\")\n",
    "    return s==s[::-1]\n",
    "\n",
    "print(is_palindrome(\"A man a plan a canal Panama\"))\n",
    "print(is_palindrome(\"hello\"))"
   ]
  },
  {
   "cell_type": "code",
   "execution_count": 19,
   "id": "cc1dc038",
   "metadata": {},
   "outputs": [
    {
     "name": "stdout",
     "output_type": "stream",
     "text": [
      "120\n"
     ]
    }
   ],
   "source": [
    "## Example 5: Factorial of the number using Recursion\n",
    "\n",
    "def fact(n):\n",
    "    if n==0:\n",
    "        return 1\n",
    "    else:\n",
    "        return n*fact(n-1)\n",
    "    \n",
    "print(fact(5))"
   ]
  },
  {
   "cell_type": "code",
   "execution_count": 23,
   "id": "4780f4b9",
   "metadata": {},
   "outputs": [
    {
     "name": "stdout",
     "output_type": "stream",
     "text": [
      "{'i': 7, 'hope': 1, 'this': 2, 'message': 1, 'finds': 1, 'you': 1, 'well': 1, 'my': 5, 'name': 1, 'is': 1, 'dev': 1, 'vimalkumar': 1, 'patel': 1, 'and': 3, 'have': 2, 'submitted': 1, 'an': 2, 'application': 3, 'to': 5, 'humber': 1, 'college': 1, 'under': 1, 'the': 2, 'reference': 1, 'number': 1, '25h506560': 1, 'am': 1, 'writing': 1, 'request': 1, 'guidance': 1, 'on': 1, 'uploading': 1, 'additional': 1, 'documents': 1, 'specifically': 1, 'would': 1, 'like': 1, 'submit': 1, 'gre': 1, 'score': 1, 'of': 1, '327': 1, 'overall': 1, 'which': 1, 'believe': 1, 'may': 1, 'help': 1, 'strengthen': 1, 'profile': 1, 'be': 1, 'considered': 1, 'for': 1, 'any': 1, 'merit-based': 1, 'scholarships': 1, 'however': 1, 'could': 1, 'not': 1, 'find': 1, 'option': 1, 'upload': 1, 'in': 1, 'portal': 1, 'additionally': 1, 'completed': 1, 'several': 1, 'relevant': 1, 'technical': 1, 'certifications': 1, 'from': 1, 'global': 1, 'institutions': 1, 'that': 1, 'demonstrate': 1, 'academic': 1, 'professional': 1, 'preparation': 1, 'these': 1, 'include': 1}\n"
     ]
    },
    {
     "name": "stderr",
     "output_type": "stream",
     "text": [
      "<>:9: SyntaxWarning: invalid escape sequence '\\|'\n",
      "<>:9: SyntaxWarning: invalid escape sequence '\\|'\n",
      "C:\\Users\\Dev\\AppData\\Local\\Temp\\ipykernel_27368\\737762119.py:9: SyntaxWarning: invalid escape sequence '\\|'\n",
      "  word = word.lower().strip('.,!?:;\\|')\n"
     ]
    }
   ],
   "source": [
    "## Example 6: A function to read file and count the frequency of each word \n",
    "\n",
    "def count_word_freq(file_path):\n",
    "    word_count={}\n",
    "    with open(file_path, 'r') as file:\n",
    "        for line in file:\n",
    "            words = line.split()\n",
    "            for word in words:\n",
    "                word = word.lower().strip('.,!?:;\\|')\n",
    "                word_count[word] = word_count.get(word,0)+1\n",
    "                \n",
    "    return word_count\n",
    "\n",
    "filepath = 'sample.txt'\n",
    "print(count_word_freq(filepath))"
   ]
  },
  {
   "cell_type": "code",
   "execution_count": null,
   "id": "bb0d33d6",
   "metadata": {},
   "outputs": [],
   "source": []
  }
 ],
 "metadata": {
  "kernelspec": {
   "display_name": "Python 3",
   "language": "python",
   "name": "python3"
  },
  "language_info": {
   "codemirror_mode": {
    "name": "ipython",
    "version": 3
   },
   "file_extension": ".py",
   "mimetype": "text/x-python",
   "name": "python",
   "nbconvert_exporter": "python",
   "pygments_lexer": "ipython3",
   "version": "3.12.8"
  }
 },
 "nbformat": 4,
 "nbformat_minor": 5
}
